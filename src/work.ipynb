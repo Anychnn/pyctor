{
 "cells": [
  {
   "cell_type": "code",
   "execution_count": null,
   "metadata": {},
   "outputs": [],
   "source": [
    "import common_util\n",
    "datas=common_util.read_json(\"/Users/bytedance/Documents/作文url.json\")\n",
    "urls=[]\n",
    "for i in datas:\n",
    "    urls.append(i['标题链接'])\n",
    "    # print(i['标题链接'])\n",
    "    # break\n",
    "common_util.write2file_arr(\"./urls.txt\",urls)"
   ]
  },
  {
   "cell_type": "code",
   "execution_count": null,
   "metadata": {},
   "outputs": [],
   "source": [
    "import common_util\n",
    "datas=common_util.read_json(\"/Users/bytedance/Documents/中央政府采购网_url.json\")\n",
    "urls=[]\n",
    "for i in datas:\n",
    "    urls.append(i['标题链接'])\n",
    "    # print(i['标题链接'])\n",
    "    # break\n",
    "common_util.write2file_arr(\"./caigou_urls.txt\",urls)"
   ]
  },
  {
   "cell_type": "code",
   "execution_count": null,
   "metadata": {},
   "outputs": [],
   "source": [
    "import common_util\n",
    "datas=common_util.read_json(\"/Users/bytedance/Documents/武汉市人民政府门户网站_url_500.json\")\n",
    "urls=[]\n",
    "for i in datas:\n",
    "    urls.append(i['标题链接'])\n",
    "    # print(i['标题链接'])\n",
    "    # break\n",
    "common_util.write2file_arr(\"./wuhan_zhengfu_200_url.txt\",urls)\n"
   ]
  },
  {
   "cell_type": "code",
   "execution_count": null,
   "metadata": {},
   "outputs": [],
   "source": [
    "\n",
    "\n",
    "import common_util\n",
    "datas=common_util.read_json(\"/Users/bytedance/Documents/读者url.json\")\n",
    "\n",
    "urls=[]\n",
    "for i in datas:\n",
    "    for k in i:\n",
    "        if i[k].startswith(\"https://\"):\n",
    "            urls.append(i[k])\n",
    "            \n",
    "urls=list(set(urls))\n",
    "common_util.write2file_arr(\"./duzhe_index.txt\",urls)"
   ]
  },
  {
   "cell_type": "code",
   "execution_count": null,
   "metadata": {},
   "outputs": [],
   "source": [
    "import common_util\n",
    "datas=common_util.read_huggingface_json_datas(\"/Users/bytedance/Documents/workspace/pyctor/a.txt\")\n"
   ]
  }
 ],
 "metadata": {
  "kernelspec": {
   "display_name": "Python 3.10.9 64-bit",
   "language": "python",
   "name": "python3"
  },
  "language_info": {
   "codemirror_mode": {
    "name": "ipython",
    "version": 3
   },
   "file_extension": ".py",
   "mimetype": "text/x-python",
   "name": "python",
   "nbconvert_exporter": "python",
   "pygments_lexer": "ipython3",
   "version": "3.10.9"
  },
  "orig_nbformat": 4,
  "vscode": {
   "interpreter": {
    "hash": "b0fa6594d8f4cbf19f97940f81e996739fb7646882a419484c72d19e05852a7e"
   }
  }
 },
 "nbformat": 4,
 "nbformat_minor": 2
}
